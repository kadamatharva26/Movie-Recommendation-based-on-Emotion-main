{
  "nbformat": 4,
  "nbformat_minor": 0,
  "metadata": {
    "colab": {
      "name": "Movie recommendation based on Emotion.ipynb",
      "provenance": [],
      "authorship_tag": "ABX9TyNbECerEGbYZAYZ4yrzIAK2",
      "include_colab_link": true
    },
    "kernelspec": {
      "name": "python3",
      "display_name": "Python 3"
    },
    "language_info": {
      "name": "python"
    }
  },
  "cells": [
    {
      "cell_type": "markdown",
      "metadata": {
        "id": "view-in-github",
        "colab_type": "text"
      },
      "source": [
        "<a href=\"https://colab.research.google.com/github/Priyal-Y/Movie-Recommendation-based-on-Emotion/blob/main/Movie_recommendation_based_on_Emotion.ipynb\" target=\"_parent\"><img src=\"https://colab.research.google.com/assets/colab-badge.svg\" alt=\"Open In Colab\"/></a>"
      ]
    },
    {
      "cell_type": "markdown",
      "source": [
        "**Movie recommendation based on Emotion**"
      ],
      "metadata": {
        "id": "Wri49Q_A4yq_"
      }
    },
    {
      "cell_type": "code",
      "execution_count": 1,
      "metadata": {
        "colab": {
          "base_uri": "https://localhost:8080/"
        },
        "id": "biIyJf9E34Lo",
        "outputId": "0fad6091-77c1-42a9-d1c5-a2ee8d0c2ca6"
      },
      "outputs": [
        {
          "output_type": "stream",
          "name": "stdout",
          "text": [
            "Requirement already satisfied: beautifulsoup4 in /usr/local/lib/python3.7/dist-packages (4.6.3)\n"
          ]
        }
      ],
      "source": [
        "pip install beautifulsoup4"
      ]
    },
    {
      "cell_type": "code",
      "source": [
        "pip install lxml"
      ],
      "metadata": {
        "colab": {
          "base_uri": "https://localhost:8080/"
        },
        "id": "ifXlVomu3_mb",
        "outputId": "82fcc102-f5ed-4b6f-857a-da9bce474a00"
      },
      "execution_count": 2,
      "outputs": [
        {
          "output_type": "stream",
          "name": "stdout",
          "text": [
            "Requirement already satisfied: lxml in /usr/local/lib/python3.7/dist-packages (4.2.6)\n"
          ]
        }
      ]
    },
    {
      "cell_type": "code",
      "source": [
        "from bs4 import BeautifulSoup as SOUP\n",
        "import re\n",
        "import requests as HTTP\n",
        "  \n",
        "# Main Function for scraping\n",
        "def main(emotion):\n",
        "  \n",
        "    # IMDb Url for Drama genre of\n",
        "    # movie against emotion Sad\n",
        "    if(emotion == \"Sad\"):\n",
        "        urlhere = 'http://www.imdb.com/search/title?genres=drama&title_type=feature&sort=moviemeter, asc'\n",
        "  \n",
        "    # IMDb Url for Musical genre of\n",
        "    # movie against emotion Disgust\n",
        "    elif(emotion == \"Disgust\"):\n",
        "        urlhere = 'http://www.imdb.com/search/title?genres=musical&title_type=feature&sort=moviemeter, asc'\n",
        "  \n",
        "    # IMDb Url for Family genre of\n",
        "    # movie against emotion Anger\n",
        "    elif(emotion == \"Anger\"):\n",
        "        urlhere = 'http://www.imdb.com/search/title?genres=family&title_type=feature&sort=moviemeter, asc'\n",
        "  \n",
        "    # IMDb Url for Thriller genre of\n",
        "    # movie against emotion Anticipation\n",
        "    elif(emotion == \"Anticipation\"):\n",
        "        urlhere = 'http://www.imdb.com/search/title?genres=thriller&title_type=feature&sort=moviemeter, asc'\n",
        "  \n",
        "    # IMDb Url for Sport genre of\n",
        "    # movie against emotion Fear\n",
        "    elif(emotion == \"Fear\"):\n",
        "        urlhere = 'http://www.imdb.com/search/title?genres=sport&title_type=feature&sort=moviemeter, asc'\n",
        "  \n",
        "    # IMDb Url for Thriller genre of\n",
        "    # movie against emotion Enjoyment\n",
        "    elif(emotion == \"Enjoyment\"):\n",
        "        urlhere = 'http://www.imdb.com/search/title?genres=thriller&title_type=feature&sort=moviemeter, asc'\n",
        "  \n",
        "    # IMDb Url for Western genre of\n",
        "    # movie against emotion Trust\n",
        "    elif(emotion == \"Trust\"):\n",
        "        urlhere = 'http://www.imdb.com/search/title?genres=western&title_type=feature&sort=moviemeter, asc'\n",
        "  \n",
        "    # IMDb Url for Film_noir genre of\n",
        "    # movie against emotion Surprise\n",
        "    elif(emotion == \"Surprise\"):\n",
        "        urlhere = 'http://www.imdb.com/search/title?genres=film_noir&title_type=feature&sort=moviemeter, asc'\n",
        "  \n",
        "    # HTTP request to get the data of\n",
        "    # the whole page\n",
        "    response = HTTP.get(urlhere)\n",
        "    data = response.text\n",
        "  \n",
        "    # Parsing the data using\n",
        "    # BeautifulSoup\n",
        "    soup = SOUP(data, \"lxml\")\n",
        "  \n",
        "    # Extract movie titles from the\n",
        "    # data using regex\n",
        "    title = soup.find_all(\"a\", attrs = {\"href\" : re.compile(r'\\/title\\/tt+\\d*\\/')})\n",
        "    return title\n",
        "  \n",
        "# Driver Function\n",
        "if __name__ == '__main__':\n",
        "  \n",
        "    emotion = input(\"Enter the emotion: \")\n",
        "    a = main(emotion)\n",
        "    count = 0\n",
        "  \n",
        "    if(emotion == \"Disgust\" or emotion == \"Anger\"\n",
        "                           or emotion==\"Surprise\"):\n",
        "  \n",
        "        for i in a:\n",
        "  \n",
        "            # Splitting each line of the\n",
        "            # IMDb data to scrape movies\n",
        "            tmp = str(i).split('>;')\n",
        "  \n",
        "            if(len(tmp) == 3):\n",
        "                print(tmp[1][:-3])\n",
        "  \n",
        "            if(count > 13):\n",
        "                break\n",
        "            count += 1\n",
        "    else:\n",
        "        for i in a:\n",
        "            tmp = str(i).split('>')\n",
        "  \n",
        "            if(len(tmp) == 3):\n",
        "                print(tmp[1][:-3])\n",
        "  \n",
        "            if(count > 11):\n",
        "                break\n",
        "            count+=1"
      ],
      "metadata": {
        "colab": {
          "base_uri": "https://localhost:8080/"
        },
        "id": "dNeG6VJ04T38",
        "outputId": "edc98fb5-4318-46a4-f2a0-d1d1d0f3cac9"
      },
      "execution_count": 4,
      "outputs": [
        {
          "output_type": "stream",
          "name": "stdout",
          "text": [
            "Enter the emotion: Sad\n",
            "Don't Look Up\n",
            "Encanto\n",
            "The Power of the Dog\n",
            "The Tender Bar\n"
          ]
        }
      ]
    }
  ]
}